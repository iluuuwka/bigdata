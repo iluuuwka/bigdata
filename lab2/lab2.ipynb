{
 "cells": [
  {
   "cell_type": "code",
   "execution_count": 1,
   "id": "376fb55d-e8d0-4904-8aba-a192adae5375",
   "metadata": {},
   "outputs": [],
   "source": [
    "import pyspark\n",
    "import os\n",
    "import sys\n",
    "\n",
    "from datetime import datetime\n",
    "from pyspark.sql.functions import col\n",
    "from pyspark.sql import SparkSession\n",
    "from pyspark import SparkContext, SparkConf\n",
    "from pyspark.sql.types import StructType, StructField, StringType, DateType"
   ]
  },
  {
   "cell_type": "code",
   "execution_count": 2,
   "id": "944eb7d7-633d-4930-9062-9c861d66857c",
   "metadata": {},
   "outputs": [],
   "source": [
    "os.environ['PYSPARK_PYTHON'] = sys.executable\n",
    "os.environ['PYSPARK_DRIVER_PYTHON'] = sys.executable"
   ]
  },
  {
   "cell_type": "code",
   "execution_count": 3,
   "id": "badffca2-515f-48d1-a89a-8ed3873a3911",
   "metadata": {},
   "outputs": [
    {
     "name": "stderr",
     "output_type": "stream",
     "text": [
      "24/03/28 18:36:43 WARN Utils: Your hostname, dmitriy-virtual-machine resolves to a loopback address: 127.0.1.1; using 192.168.71.128 instead (on interface ens33)\n",
      "24/03/28 18:36:43 WARN Utils: Set SPARK_LOCAL_IP if you need to bind to another address\n",
      "WARNING: An illegal reflective access operation has occurred\n",
      "WARNING: Illegal reflective access by org.apache.spark.unsafe.Platform (file:/home/dmitriy/.local/lib/python3.10/site-packages/pyspark/jars/spark-unsafe_2.12-3.0.0.jar) to constructor java.nio.DirectByteBuffer(long,int)\n",
      "WARNING: Please consider reporting this to the maintainers of org.apache.spark.unsafe.Platform\n",
      "WARNING: Use --illegal-access=warn to enable warnings of further illegal reflective access operations\n",
      "WARNING: All illegal access operations will be denied in a future release\n",
      "Ivy Default Cache set to: /home/dmitriy/.ivy2/cache\n",
      "The jars for the packages stored in: /home/dmitriy/.ivy2/jars\n",
      ":: loading settings :: url = jar:file:/home/dmitriy/.local/lib/python3.10/site-packages/pyspark/jars/ivy-2.4.0.jar!/org/apache/ivy/core/settings/ivysettings.xml\n",
      "com.databricks#spark-xml_2.12 added as a dependency\n",
      ":: resolving dependencies :: org.apache.spark#spark-submit-parent-713e2517-0d0b-4cc2-a51b-c2f097fd1380;1.0\n",
      "\tconfs: [default]\n",
      "\tfound com.databricks#spark-xml_2.12;0.13.0 in central\n",
      "\tfound commons-io#commons-io;2.8.0 in central\n",
      "\tfound org.glassfish.jaxb#txw2;2.3.4 in central\n",
      "\tfound org.apache.ws.xmlschema#xmlschema-core;2.2.5 in central\n",
      ":: resolution report :: resolve 126ms :: artifacts dl 3ms\n",
      "\t:: modules in use:\n",
      "\tcom.databricks#spark-xml_2.12;0.13.0 from central in [default]\n",
      "\tcommons-io#commons-io;2.8.0 from central in [default]\n",
      "\torg.apache.ws.xmlschema#xmlschema-core;2.2.5 from central in [default]\n",
      "\torg.glassfish.jaxb#txw2;2.3.4 from central in [default]\n",
      "\t---------------------------------------------------------------------\n",
      "\t|                  |            modules            ||   artifacts   |\n",
      "\t|       conf       | number| search|dwnlded|evicted|| number|dwnlded|\n",
      "\t---------------------------------------------------------------------\n",
      "\t|      default     |   4   |   0   |   0   |   0   ||   4   |   0   |\n",
      "\t---------------------------------------------------------------------\n",
      ":: retrieving :: org.apache.spark#spark-submit-parent-713e2517-0d0b-4cc2-a51b-c2f097fd1380\n",
      "\tconfs: [default]\n",
      "\t0 artifacts copied, 4 already retrieved (0kB/5ms)\n",
      "24/03/28 18:36:44 WARN NativeCodeLoader: Unable to load native-hadoop library for your platform... using builtin-java classes where applicable\n",
      "Using Spark's default log4j profile: org/apache/spark/log4j-defaults.properties\n",
      "Setting default log level to \"WARN\".\n",
      "To adjust logging level use sc.setLogLevel(newLevel). For SparkR, use setLogLevel(newLevel).\n"
     ]
    },
    {
     "data": {
      "text/html": [
       "\n",
       "            <div>\n",
       "                <p><b>SparkSession - in-memory</b></p>\n",
       "                \n",
       "        <div>\n",
       "            <p><b>SparkContext</b></p>\n",
       "\n",
       "            <p><a href=\"http://192.168.71.128:4040\">Spark UI</a></p>\n",
       "\n",
       "            <dl>\n",
       "              <dt>Version</dt>\n",
       "                <dd><code>v3.0.0</code></dd>\n",
       "              <dt>Master</dt>\n",
       "                <dd><code>local[1]</code></dd>\n",
       "              <dt>AppName</dt>\n",
       "                <dd><code>lab2</code></dd>\n",
       "            </dl>\n",
       "        </div>\n",
       "        \n",
       "            </div>\n",
       "        "
      ],
      "text/plain": [
       "<pyspark.sql.session.SparkSession at 0x7a60a1fc8610>"
      ]
     },
     "execution_count": 3,
     "metadata": {},
     "output_type": "execute_result"
    }
   ],
   "source": [
    "os.environ['PYSPARK_SUBMIT_ARGS'] = '--packages com.databricks:spark-xml_2.12:0.13.0 pyspark-shell'\n",
    "sc = SparkSession.builder.appName(\"lab2\").master(\"local[1]\").getOrCreate()\n",
    "sc"
   ]
  },
  {
   "cell_type": "code",
   "execution_count": 4,
   "id": "4829c401-4c9c-434d-a73d-860f1228cc5b",
   "metadata": {},
   "outputs": [
    {
     "name": "stdout",
     "output_type": "stream",
     "text": [
      "1. name\n",
      "2. A# .NET\n",
      "3. A# (Axiom)\n",
      "4. A-0 System\n",
      "5. A+\n",
      "6. A++\n",
      "7. ABAP\n",
      "8. ABC\n",
      "9. ABC ALGOL\n",
      "10. ABSET\n"
     ]
    }
   ],
   "source": [
    "programming_languages_df = sc.read.csv(\"programming-languages.csv\")\n",
    "programming_languages_list = [str(x[0]) for x in programming_languages_df.collect()]\n",
    "\n",
    "for index, language in enumerate(programming_languages_list[:10], start=1):\n",
    "    print(f\"{index}. {language}\")"
   ]
  },
  {
   "cell_type": "code",
   "execution_count": 5,
   "id": "44001a01-0a18-4113-952c-c051f455774d",
   "metadata": {},
   "outputs": [
    {
     "name": "stderr",
     "output_type": "stream",
     "text": [
      "                                                                                \r"
     ]
    },
    {
     "data": {
      "text/plain": [
       "[Row(_AcceptedAnswerId=7, _AnswerCount=13, _Body=\"<p>I want to use a track-bar to change a form's opacity.</p>\\n\\n<p>This is my code:</p>\\n\\n<pre><code>decimal trans = trackBar1.Value / 5000;\\nthis.Opacity = trans;\\n</code></pre>\\n\\n<p>When I build the application, it gives the following error:</p>\\n\\n<blockquote>\\n  <p>Cannot implicitly convert type <code>'decimal'</code> to <code>'double'</code></p>\\n</blockquote>\\n\\n<p>I tried using <code>trans</code> and <code>double</code> but then the control doesn't work. This code worked fine in a past VB.NET project.</p>\\n\", _ClosedDate=None, _CommentCount=2, _CommunityOwnedDate=datetime.datetime(2012, 11, 1, 0, 42, 47, 213000), _CreationDate=datetime.datetime(2008, 8, 1, 5, 42, 52, 667000), _FavoriteCount=48, _Id=4, _LastActivityDate=datetime.datetime(2019, 7, 19, 9, 39, 54, 173000), _LastEditDate=datetime.datetime(2019, 7, 19, 9, 39, 54, 173000), _LastEditorDisplayName='Rich B', _LastEditorUserId=3641067, _OwnerDisplayName=None, _OwnerUserId=8, _ParentId=None, _PostTypeId=1, _Score=630, _Tags='<c#><floating-point><type-conversion><double><decimal>', _Title='Convert Decimal to Double?', _ViewCount=42817)]"
      ]
     },
     "execution_count": 5,
     "metadata": {},
     "output_type": "execute_result"
    }
   ],
   "source": [
    "posts = sc.read.format(\"xml\").options(rowTag=\"row\").load('posts_sample.xml')\n",
    "posts.take(1)"
   ]
  },
  {
   "cell_type": "code",
   "execution_count": 6,
   "id": "9f7a4c49-c3dc-4e34-8f37-09194d89ed7a",
   "metadata": {},
   "outputs": [
    {
     "name": "stderr",
     "output_type": "stream",
     "text": [
      "                                                                                \r"
     ]
    },
    {
     "name": "stdout",
     "output_type": "stream",
     "text": [
      "+--------------------+-----------------------+\n",
      "|Programming_Language|Number_of_Mentions_2010|\n",
      "+--------------------+-----------------------+\n",
      "|                Java|                     52|\n",
      "|          JavaScript|                     44|\n",
      "|                 PHP|                     42|\n",
      "|              Python|                     25|\n",
      "|         Objective-C|                     22|\n",
      "|                   C|                     20|\n",
      "|                Ruby|                     11|\n",
      "|              Delphi|                      7|\n",
      "|                   R|                      3|\n",
      "|                Bash|                      3|\n",
      "+--------------------+-----------------------+\n",
      "\n"
     ]
    },
    {
     "name": "stderr",
     "output_type": "stream",
     "text": [
      "                                                                                \r"
     ]
    },
    {
     "name": "stdout",
     "output_type": "stream",
     "text": [
      "+--------------------+-----------------------+\n",
      "|Programming_Language|Number_of_Mentions_2011|\n",
      "+--------------------+-----------------------+\n",
      "|                 PHP|                     97|\n",
      "|                Java|                     91|\n",
      "|          JavaScript|                     82|\n",
      "|              Python|                     35|\n",
      "|         Objective-C|                     33|\n",
      "|                   C|                     24|\n",
      "|                Ruby|                     17|\n",
      "|              Delphi|                      8|\n",
      "|                Perl|                      8|\n",
      "|                Bash|                      7|\n",
      "+--------------------+-----------------------+\n",
      "\n"
     ]
    },
    {
     "name": "stderr",
     "output_type": "stream",
     "text": [
      "                                                                                \r"
     ]
    },
    {
     "name": "stdout",
     "output_type": "stream",
     "text": [
      "+--------------------+-----------------------+\n",
      "|Programming_Language|Number_of_Mentions_2012|\n",
      "+--------------------+-----------------------+\n",
      "|                 PHP|                    136|\n",
      "|          JavaScript|                    129|\n",
      "|                Java|                    124|\n",
      "|              Python|                     65|\n",
      "|         Objective-C|                     45|\n",
      "|                   C|                     27|\n",
      "|                Ruby|                     25|\n",
      "|                Bash|                      9|\n",
      "|                   R|                      9|\n",
      "|              MATLAB|                      6|\n",
      "+--------------------+-----------------------+\n",
      "\n"
     ]
    },
    {
     "name": "stderr",
     "output_type": "stream",
     "text": [
      "                                                                                \r"
     ]
    },
    {
     "name": "stdout",
     "output_type": "stream",
     "text": [
      "+--------------------+-----------------------+\n",
      "|Programming_Language|Number_of_Mentions_2013|\n",
      "+--------------------+-----------------------+\n",
      "|          JavaScript|                    195|\n",
      "|                Java|                    191|\n",
      "|                 PHP|                    173|\n",
      "|              Python|                     87|\n",
      "|         Objective-C|                     40|\n",
      "|                   C|                     35|\n",
      "|                Ruby|                     30|\n",
      "|                   R|                     25|\n",
      "|                Bash|                     11|\n",
      "|               Scala|                     10|\n",
      "+--------------------+-----------------------+\n",
      "\n"
     ]
    },
    {
     "name": "stderr",
     "output_type": "stream",
     "text": [
      "                                                                                \r"
     ]
    },
    {
     "name": "stdout",
     "output_type": "stream",
     "text": [
      "+--------------------+-----------------------+\n",
      "|Programming_Language|Number_of_Mentions_2014|\n",
      "+--------------------+-----------------------+\n",
      "|          JavaScript|                    235|\n",
      "|                Java|                    228|\n",
      "|                 PHP|                    154|\n",
      "|              Python|                    103|\n",
      "|                   C|                     52|\n",
      "|         Objective-C|                     49|\n",
      "|                   R|                     28|\n",
      "|                Ruby|                     20|\n",
      "|              MATLAB|                     16|\n",
      "|                Bash|                     13|\n",
      "+--------------------+-----------------------+\n",
      "\n"
     ]
    },
    {
     "name": "stderr",
     "output_type": "stream",
     "text": [
      "                                                                                \r"
     ]
    },
    {
     "name": "stdout",
     "output_type": "stream",
     "text": [
      "+--------------------+-----------------------+\n",
      "|Programming_Language|Number_of_Mentions_2015|\n",
      "+--------------------+-----------------------+\n",
      "|          JavaScript|                    268|\n",
      "|                Java|                    208|\n",
      "|                 PHP|                    147|\n",
      "|              Python|                    119|\n",
      "|                   R|                     43|\n",
      "|                   C|                     38|\n",
      "|         Objective-C|                     30|\n",
      "|                Ruby|                     20|\n",
      "|              MATLAB|                     16|\n",
      "|               Scala|                     13|\n",
      "+--------------------+-----------------------+\n",
      "\n"
     ]
    },
    {
     "name": "stderr",
     "output_type": "stream",
     "text": [
      "                                                                                \r"
     ]
    },
    {
     "name": "stdout",
     "output_type": "stream",
     "text": [
      "+--------------------+-----------------------+\n",
      "|Programming_Language|Number_of_Mentions_2016|\n",
      "+--------------------+-----------------------+\n",
      "|          JavaScript|                    271|\n",
      "|                Java|                    178|\n",
      "|              Python|                    140|\n",
      "|                 PHP|                    126|\n",
      "|                   R|                     50|\n",
      "|                   C|                     32|\n",
      "|                Ruby|                     22|\n",
      "|                Bash|                     16|\n",
      "|               Scala|                     16|\n",
      "|              MATLAB|                     15|\n",
      "+--------------------+-----------------------+\n",
      "\n"
     ]
    },
    {
     "name": "stderr",
     "output_type": "stream",
     "text": [
      "                                                                                \r"
     ]
    },
    {
     "name": "stdout",
     "output_type": "stream",
     "text": [
      "+--------------------+-----------------------+\n",
      "|Programming_Language|Number_of_Mentions_2017|\n",
      "+--------------------+-----------------------+\n",
      "|          JavaScript|                    245|\n",
      "|                Java|                    205|\n",
      "|              Python|                    185|\n",
      "|                 PHP|                    122|\n",
      "|                   R|                     53|\n",
      "|                   C|                     24|\n",
      "|         Objective-C|                     19|\n",
      "|                Ruby|                     15|\n",
      "|          TypeScript|                     14|\n",
      "|          PowerShell|                     14|\n",
      "+--------------------+-----------------------+\n",
      "\n"
     ]
    },
    {
     "name": "stderr",
     "output_type": "stream",
     "text": [
      "                                                                                \r"
     ]
    },
    {
     "name": "stdout",
     "output_type": "stream",
     "text": [
      "+--------------------+-----------------------+\n",
      "|Programming_Language|Number_of_Mentions_2018|\n",
      "+--------------------+-----------------------+\n",
      "|              Python|                    214|\n",
      "|          JavaScript|                    194|\n",
      "|                Java|                    145|\n",
      "|                 PHP|                     99|\n",
      "|                   R|                     63|\n",
      "|                   C|                     24|\n",
      "|               Scala|                     22|\n",
      "|          TypeScript|                     21|\n",
      "|          PowerShell|                     13|\n",
      "|                Bash|                     12|\n",
      "+--------------------+-----------------------+\n",
      "\n"
     ]
    },
    {
     "name": "stderr",
     "output_type": "stream",
     "text": [
      "                                                                                \r"
     ]
    },
    {
     "name": "stdout",
     "output_type": "stream",
     "text": [
      "+--------------------+-----------------------+\n",
      "|Programming_Language|Number_of_Mentions_2019|\n",
      "+--------------------+-----------------------+\n",
      "|              Python|                    162|\n",
      "|          JavaScript|                    131|\n",
      "|                Java|                     95|\n",
      "|                 PHP|                     59|\n",
      "|                   R|                     36|\n",
      "|                   C|                     14|\n",
      "|                  Go|                      9|\n",
      "|              MATLAB|                      9|\n",
      "|              Kotlin|                      9|\n",
      "|                Dart|                      9|\n",
      "+--------------------+-----------------------+\n",
      "\n"
     ]
    }
   ],
   "source": [
    "def detect_language(post):\n",
    "    tags_lower = post._Tags.lower()\n",
    "    detected_language = next((lang for lang in programming_languages_list if f\"<{lang.lower()}>\" in tags_lower), None)\n",
    "    return (post._Id, detected_language) if detected_language is not None else None\n",
    "    \n",
    "def is_post_in_year(post, year):\n",
    "    creation_date = post._CreationDate\n",
    "    return datetime(year, 1, 1) <= creation_date <= datetime(year, 12, 31)\n",
    "\n",
    "def process_posts_for_year(year, posts_rdd):\n",
    "    year_results = posts_rdd\\\n",
    "        .filter(lambda post: post._Tags is not None and is_post_in_year(post, year))\\\n",
    "        .map(detect_language)\\\n",
    "        .filter(lambda result: result is not None)\\\n",
    "        .map(lambda result: (result[1], 1))\\\n",
    "        .reduceByKey(lambda a, b: a + b)\\\n",
    "        .sortBy(lambda x: x[1], ascending=False)\\\n",
    "        .take(10)\n",
    "    \n",
    "    df = sc.createDataFrame(year_results, [\"Programming_Language\", f\"Number_of_Mentions_{year}\"])\n",
    "    return df\n",
    "\n",
    "final_results = {}\n",
    "for year in range(2010, 2020):\n",
    "    final_results[year] = process_posts_for_year(year, posts.rdd)\n",
    "    final_results[year].show()\n"
   ]
  },
  {
   "cell_type": "code",
   "execution_count": 9,
   "id": "893b9e52-ff31-4f54-bcdb-51c2ca3d8225",
   "metadata": {},
   "outputs": [],
   "source": [
    "for year in final_results.keys():\n",
    "    final_results[year].write.format(\"parquet\").save(f\"top_{year}\")"
   ]
  },
  {
   "cell_type": "code",
   "execution_count": null,
   "id": "911b3ad5-75f5-49fc-bfb7-b6fc4899ec2c",
   "metadata": {},
   "outputs": [],
   "source": []
  }
 ],
 "metadata": {
  "kernelspec": {
   "display_name": "Python 3 (ipykernel)",
   "language": "python",
   "name": "python3"
  },
  "language_info": {
   "codemirror_mode": {
    "name": "ipython",
    "version": 3
   },
   "file_extension": ".py",
   "mimetype": "text/x-python",
   "name": "python",
   "nbconvert_exporter": "python",
   "pygments_lexer": "ipython3",
   "version": "3.10.12"
  }
 },
 "nbformat": 4,
 "nbformat_minor": 5
}
