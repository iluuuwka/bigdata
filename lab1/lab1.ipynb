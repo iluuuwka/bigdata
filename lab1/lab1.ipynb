{
 "cells": [
  {
   "cell_type": "code",
   "execution_count": null,
   "id": "5f8fc213-bce0-4c96-b2ce-d0d329df6eb1",
   "metadata": {},
   "outputs": [],
   "source": [
    "!pip3 install pyspark==3.0.0"
   ]
  },
  {
   "cell_type": "code",
   "execution_count": 1,
   "id": "edfab44f-38b5-4fc0-8a4f-0e1bf6785d79",
   "metadata": {},
   "outputs": [
    {
     "name": "stderr",
     "output_type": "stream",
     "text": [
      "24/03/28 17:25:19 WARN Utils: Your hostname, dmitriy-virtual-machine resolves to a loopback address: 127.0.1.1; using 192.168.71.128 instead (on interface ens33)\n",
      "24/03/28 17:25:19 WARN Utils: Set SPARK_LOCAL_IP if you need to bind to another address\n",
      "WARNING: An illegal reflective access operation has occurred\n",
      "WARNING: Illegal reflective access by org.apache.spark.unsafe.Platform (file:/home/dmitriy/.local/lib/python3.10/site-packages/pyspark/jars/spark-unsafe_2.12-3.0.0.jar) to constructor java.nio.DirectByteBuffer(long,int)\n",
      "WARNING: Please consider reporting this to the maintainers of org.apache.spark.unsafe.Platform\n",
      "WARNING: Use --illegal-access=warn to enable warnings of further illegal reflective access operations\n",
      "WARNING: All illegal access operations will be denied in a future release\n",
      "24/03/28 17:25:19 WARN NativeCodeLoader: Unable to load native-hadoop library for your platform... using builtin-java classes where applicable\n",
      "Using Spark's default log4j profile: org/apache/spark/log4j-defaults.properties\n",
      "Setting default log level to \"WARN\".\n",
      "To adjust logging level use sc.setLogLevel(newLevel). For SparkR, use setLogLevel(newLevel).\n"
     ]
    }
   ],
   "source": [
    "import os\n",
    "import sys\n",
    "from pyspark.sql import SparkSession\n",
    "from typing import NamedTuple\n",
    "from datetime import datetime\n",
    "from functools import reduce\n",
    "\n",
    "os.environ['PYSPARK_PYTHON'] = sys.executable\n",
    "os.environ['PYSPARK_DRIVER_PYTHON'] = sys.executable\n",
    "spark = SparkSession.builder.getOrCreate()"
   ]
  },
  {
   "cell_type": "code",
   "execution_count": 2,
   "id": "a3526e55-6831-4ec4-bcfd-18143e036790",
   "metadata": {},
   "outputs": [
    {
     "data": {
      "text/html": [
       "\n",
       "        <div>\n",
       "            <p><b>SparkContext</b></p>\n",
       "\n",
       "            <p><a href=\"http://192.168.71.128:4040\">Spark UI</a></p>\n",
       "\n",
       "            <dl>\n",
       "              <dt>Version</dt>\n",
       "                <dd><code>v3.0.0</code></dd>\n",
       "              <dt>Master</dt>\n",
       "                <dd><code>local[1]</code></dd>\n",
       "              <dt>AppName</dt>\n",
       "                <dd><code>Lab1</code></dd>\n",
       "            </dl>\n",
       "        </div>\n",
       "        "
      ],
      "text/plain": [
       "<SparkContext master=local[1] appName=Lab1>"
      ]
     },
     "execution_count": 2,
     "metadata": {},
     "output_type": "execute_result"
    }
   ],
   "source": [
    "from pyspark import SparkContext, SparkConf\n",
    "app_name = \"Lab1\"\n",
    "spark.stop()\n",
    "conf = SparkConf().setAppName(app_name).setMaster('local[1]')\n",
    "sc = SparkContext(conf=conf)\n",
    "sc"
   ]
  },
  {
   "cell_type": "code",
   "execution_count": 3,
   "id": "1943972a-d238-4c57-b3af-6ae402745c76",
   "metadata": {},
   "outputs": [],
   "source": [
    "def initStation(stations):\n",
    "    class Station(NamedTuple):\n",
    "        station_id: int\n",
    "        name: str\n",
    "        lat: float\n",
    "        long: float\n",
    "        dockcount: int\n",
    "        landmark: str\n",
    "        installation: str\n",
    "    \n",
    "    for station in stations:\n",
    "        yield Station(\n",
    "            station_id = int(station[0]),\n",
    "            name = station[1],\n",
    "            lat = float(station[2]),\n",
    "            long = float(station[3]),\n",
    "            dockcount = int(station[4]),\n",
    "            landmark = station[5],\n",
    "            installation = datetime.strptime(station[6], '%m/%d/%Y')\n",
    "        )\n",
    "        \n",
    "def initTrip(trips):\n",
    "    class Trip(NamedTuple):\n",
    "        trip_id: int\n",
    "        duration: int\n",
    "        start_date: datetime\n",
    "        start_station_name: str\n",
    "        start_station_id: int\n",
    "        end_date: datetime\n",
    "        end_station_name: str\n",
    "        end_station_id: int\n",
    "        bike_id: int\n",
    "        subscription_type: str\n",
    "        zip_code: str\n",
    "        \n",
    "    for trip in trips:\n",
    "        yield Trip(                             \n",
    "             trip_id = int(trip[0]),\n",
    "             duration = int(trip[1]),\n",
    "             start_date = datetime.strptime(trip[2], '%m/%d/%Y %H:%M'),\n",
    "             start_station_name = trip[3],\n",
    "             start_station_id = int(trip[4]),\n",
    "             end_date = datetime.strptime(trip[5], '%m/%d/%Y %H:%M'),\n",
    "             end_station_name = trip[6],\n",
    "             end_station_id = trip[7],\n",
    "             bike_id = int(trip[8]),\n",
    "             subscription_type = trip[9],\n",
    "             zip_code = trip[10]\n",
    "        )\n"
   ]
  },
  {
   "cell_type": "code",
   "execution_count": 4,
   "id": "266f668f-7e90-4c42-be9b-6582ca44e376",
   "metadata": {},
   "outputs": [],
   "source": [
    "tripData = sc.textFile(\"trip.csv\")\n",
    "stationData = sc.textFile(\"station.csv\")"
   ]
  },
  {
   "cell_type": "code",
   "execution_count": 5,
   "id": "5c966eed-e368-4e79-b831-7cf58a2230b1",
   "metadata": {},
   "outputs": [
    {
     "data": {
      "text/plain": [
       "'id,duration,start_date,start_station_name,start_station_id,end_date,end_station_name,end_station_id,bike_id,subscription_type,zip_code'"
      ]
     },
     "execution_count": 5,
     "metadata": {},
     "output_type": "execute_result"
    }
   ],
   "source": [
    "tripData.first()"
   ]
  },
  {
   "cell_type": "code",
   "execution_count": 6,
   "id": "a218fb5b-8ea9-4b40-b9d9-d95fc073769f",
   "metadata": {},
   "outputs": [
    {
     "data": {
      "text/plain": [
       "'id,name,lat,long,dock_count,city,installation_date'"
      ]
     },
     "execution_count": 6,
     "metadata": {},
     "output_type": "execute_result"
    }
   ],
   "source": [
    "stationData.first()"
   ]
  },
  {
   "cell_type": "code",
   "execution_count": 7,
   "id": "f2101155-94c2-4934-b647-4e15f4d45afe",
   "metadata": {},
   "outputs": [
    {
     "name": "stdout",
     "output_type": "stream",
     "text": [
      "[['2', 'San Jose Diridon Caltrain Station', '37.329732', '-121.90178200000001', '27', 'San Jose', '8/6/2013'], ['3', 'San Jose Civic Center', '37.330698', '-121.888979', '15', 'San Jose', '8/5/2013'], ['4', 'Santa Clara at Almaden', '37.333988', '-121.894902', '11', 'San Jose', '8/6/2013'], ['5', 'Adobe on Almaden', '37.331415', '-121.8932', '19', 'San Jose', '8/5/2013'], ['6', 'San Pedro Square', '37.336721000000004', '-121.894074', '15', 'San Jose', '8/7/2013']]\n"
     ]
    }
   ],
   "source": [
    "header = stationData.first()\n",
    "station_data_filter = stationData.filter(lambda line: line != header)\n",
    "station_data_map = station_data_filter.map(lambda line: line.split(','))\n",
    "print(station_data_map.take(5))"
   ]
  },
  {
   "cell_type": "code",
   "execution_count": 8,
   "id": "15e2065d-c7fd-4716-9d4b-eedc127b7145",
   "metadata": {},
   "outputs": [
    {
     "data": {
      "text/plain": [
       "Station(station_id=2, name='San Jose Diridon Caltrain Station', lat=37.329732, long=-121.90178200000001, dockcount=27, landmark='San Jose', installation=datetime.datetime(2013, 8, 6, 0, 0))"
      ]
     },
     "execution_count": 8,
     "metadata": {},
     "output_type": "execute_result"
    }
   ],
   "source": [
    "stations_mapped = station_data_map.mapPartitions(initStation)\n",
    "stations_mapped.first()"
   ]
  },
  {
   "cell_type": "code",
   "execution_count": 9,
   "id": "c636f0ad-c32d-4e68-a4f3-2dfc966a70c7",
   "metadata": {},
   "outputs": [
    {
     "name": "stdout",
     "output_type": "stream",
     "text": [
      "[['4576', '63', '8/29/2013 14:13', 'South Van Ness at Market', '66', '8/29/2013 14:14', 'South Van Ness at Market', '66', '520', 'Subscriber', '94127'], ['4607', '70', '8/29/2013 14:42', 'San Jose City Hall', '10', '8/29/2013 14:43', 'San Jose City Hall', '10', '661', 'Subscriber', '95138'], ['4130', '71', '8/29/2013 10:16', 'Mountain View City Hall', '27', '8/29/2013 10:17', 'Mountain View City Hall', '27', '48', 'Subscriber', '97214'], ['4251', '77', '8/29/2013 11:29', 'San Jose City Hall', '10', '8/29/2013 11:30', 'San Jose City Hall', '10', '26', 'Subscriber', '95060'], ['4299', '83', '8/29/2013 12:02', 'South Van Ness at Market', '66', '8/29/2013 12:04', 'Market at 10th', '67', '319', 'Subscriber', '94103']]\n"
     ]
    }
   ],
   "source": [
    "header = tripData.first()\n",
    "trips_data_filter = tripData.filter(lambda line: line != header)\n",
    "trips_data_map = trips_data_filter.map(lambda line: line.split(','))\n",
    "print(trips_data_map.take(5))"
   ]
  },
  {
   "cell_type": "code",
   "execution_count": 10,
   "id": "fe91126c-cc15-4cf5-9642-9808919a5de0",
   "metadata": {},
   "outputs": [],
   "source": [
    "trips_mapped = trips_data_map.mapPartitions(initTrip)"
   ]
  },
  {
   "cell_type": "code",
   "execution_count": 11,
   "id": "3e8e69a1-29bd-482c-89eb-2e3bf18bead3",
   "metadata": {},
   "outputs": [
    {
     "data": {
      "text/plain": [
       "Trip(trip_id=4576, duration=63, start_date=datetime.datetime(2013, 8, 29, 14, 13), start_station_name='South Van Ness at Market', start_station_id=66, end_date=datetime.datetime(2013, 8, 29, 14, 14), end_station_name='South Van Ness at Market', end_station_id='66', bike_id=520, subscription_type='Subscriber', zip_code='94127')"
      ]
     },
     "execution_count": 11,
     "metadata": {},
     "output_type": "execute_result"
    }
   ],
   "source": [
    "trips_mapped.first()"
   ]
  },
  {
   "cell_type": "markdown",
   "id": "5119d351-6e3d-4315-aa2a-08aa23b111b9",
   "metadata": {},
   "source": [
    "## 1. Найти велосипед с максимальным временем пробега."
   ]
  },
  {
   "cell_type": "code",
   "execution_count": 12,
   "id": "a6f06a3e-26f7-4249-b08f-fee41aa1a9ba",
   "metadata": {},
   "outputs": [
    {
     "name": "stderr",
     "output_type": "stream",
     "text": [
      "[Stage 11:>                                                         (0 + 1) / 1]\r"
     ]
    },
    {
     "name": "stdout",
     "output_type": "stream",
     "text": [
      "Trip with max duration: 535\n"
     ]
    },
    {
     "name": "stderr",
     "output_type": "stream",
     "text": [
      "                                                                                \r"
     ]
    }
   ],
   "source": [
    "max_duration_trip = trips_mapped.sortBy(lambda trip: trip.duration, ascending=False).first()\n",
    "print(\"Trip with max duration:\", max_duration_trip.bike_id)"
   ]
  },
  {
   "cell_type": "markdown",
   "id": "fe93a4d5-0145-41e9-b1af-dff4b0433029",
   "metadata": {},
   "source": [
    "## 2. Найти наибольшее геодезическое расстояние между станциями."
   ]
  },
  {
   "cell_type": "code",
   "execution_count": 13,
   "id": "95007577-4cde-48e4-b1bc-879f9626bb69",
   "metadata": {},
   "outputs": [
    {
     "name": "stderr",
     "output_type": "stream",
     "text": [
      "[Stage 17:======================================>                   (2 + 1) / 3]\r"
     ]
    },
    {
     "name": "stdout",
     "output_type": "stream",
     "text": [
      "[(229914.0, (26, '16')), (179212.5, (32, '63')), (169308.0, (80, '36')), (156461.03603603604, (66, '62')), (101207.5, (28, '2'))]\n"
     ]
    },
    {
     "name": "stderr",
     "output_type": "stream",
     "text": [
      "                                                                                \r"
     ]
    }
   ],
   "source": [
    "trips_stations = trips_mapped.filter(lambda trip: str(trip.start_station_id) != str(trip.end_station_id))\n",
    "\n",
    "grouped_trips = trips_stations.keyBy(lambda trip: (trip.start_station_id, trip.end_station_id)).groupByKey()\n",
    "\n",
    "average_trips = grouped_trips.mapValues(lambda trips: sum(trip.duration for trip in trips) / len(trips))\n",
    "\n",
    "result = average_trips.map(lambda x: (x[1], x[0])).sortByKey(False).take(5)\n",
    "\n",
    "print(result)"
   ]
  },
  {
   "cell_type": "markdown",
   "id": "05cda339-c2b5-4ac6-8382-62ab1c08843f",
   "metadata": {},
   "source": [
    "## 3. Найти путь велосипеда с максимальным временем пробега через станции."
   ]
  },
  {
   "cell_type": "code",
   "execution_count": 14,
   "id": "c7f76aa1-f768-4e18-9282-5ef9fdda1a36",
   "metadata": {},
   "outputs": [
    {
     "name": "stderr",
     "output_type": "stream",
     "text": [
      "                                                                                \r"
     ]
    },
    {
     "data": {
      "text/plain": [
       "('Post at Kearney', 'San Francisco Caltrain (Townsend at 4th)')"
      ]
     },
     "execution_count": 14,
     "metadata": {},
     "output_type": "execute_result"
    }
   ],
   "source": [
    "filtered_trips = trips_mapped.filter(lambda trip: trip.bike_id == max_duration_trip.bike_id)\n",
    "\n",
    "sorted_trips = filtered_trips.sortBy(lambda trip: trip.start_date)\n",
    "\n",
    "transformed_trips = sorted_trips.map(lambda trip: (trip.start_station_name, trip.end_station_name))\n",
    "\n",
    "first_trip_path = transformed_trips.first()\n",
    "\n",
    "first_trip_path"
   ]
  },
  {
   "cell_type": "markdown",
   "id": "996d3061-f7c2-4be9-a32d-ce433070aaa8",
   "metadata": {},
   "source": [
    "## 4. Найти количество велосипедов в системе."
   ]
  },
  {
   "cell_type": "code",
   "execution_count": 15,
   "id": "080b50a7-7043-4817-a507-0231648ccd20",
   "metadata": {},
   "outputs": [
    {
     "name": "stderr",
     "output_type": "stream",
     "text": [
      "                                                                                \r"
     ]
    },
    {
     "data": {
      "text/plain": [
       "700"
      ]
     },
     "execution_count": 15,
     "metadata": {},
     "output_type": "execute_result"
    }
   ],
   "source": [
    "bike_ids_rdd = trips_mapped.map(lambda trip: trip.bike_id)\n",
    "\n",
    "unique_bike_ids = bike_ids_rdd.distinct()\n",
    "\n",
    "count_bikes = unique_bike_ids.count()\n",
    "\n",
    "count_bikes"
   ]
  },
  {
   "cell_type": "markdown",
   "id": "eba9a082-b7e8-4237-b3a1-d3857f66c69a",
   "metadata": {},
   "source": [
    "## 5. Найти пользователей потративших на поездки более 3 часов."
   ]
  },
  {
   "cell_type": "code",
   "execution_count": 16,
   "id": "2e4d91f9-93a4-49ef-8d65-0018a795a5f9",
   "metadata": {},
   "outputs": [
    {
     "name": "stderr",
     "output_type": "stream",
     "text": [
      "                                                                                \r"
     ]
    },
    {
     "data": {
      "text/plain": [
       "['58553',\n",
       " '94301',\n",
       " '94039',\n",
       " '94133',\n",
       " '93726',\n",
       " '94123',\n",
       " '4517',\n",
       " '29200',\n",
       " '45322',\n",
       " '94080']"
      ]
     },
     "execution_count": 16,
     "metadata": {},
     "output_type": "execute_result"
    }
   ],
   "source": [
    "long_trips = trips_mapped.filter(lambda x: x.duration > (3 * 60 * 60))\n",
    "\n",
    "unique_zip_codes = (\n",
    "    long_trips\n",
    "    .map(lambda trip: trip.zip_code)  \n",
    "    .filter(lambda zip_code: zip_code != \"\")  \n",
    "    .distinct()  \n",
    ")\n",
    "\n",
    "first_10_users = unique_zip_codes.take(10)\n",
    "\n",
    "first_10_users"
   ]
  },
  {
   "cell_type": "code",
   "execution_count": null,
   "id": "77b7c136-abe7-4b00-962b-85bb2d3ce0ba",
   "metadata": {},
   "outputs": [],
   "source": []
  }
 ],
 "metadata": {
  "kernelspec": {
   "display_name": "Python 3 (ipykernel)",
   "language": "python",
   "name": "python3"
  },
  "language_info": {
   "codemirror_mode": {
    "name": "ipython",
    "version": 3
   },
   "file_extension": ".py",
   "mimetype": "text/x-python",
   "name": "python",
   "nbconvert_exporter": "python",
   "pygments_lexer": "ipython3",
   "version": "3.10.12"
  }
 },
 "nbformat": 4,
 "nbformat_minor": 5
}
